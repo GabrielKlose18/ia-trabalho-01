{
  "nbformat": 4,
  "nbformat_minor": 0,
  "metadata": {
    "colab": {
      "provenance": [],
      "authorship_tag": "ABX9TyNegnaASnJbTPcttmXqMqZj",
      "include_colab_link": true
    },
    "kernelspec": {
      "name": "python3",
      "display_name": "Python 3"
    },
    "language_info": {
      "name": "python"
    }
  },
  "cells": [
    {
      "cell_type": "markdown",
      "metadata": {
        "id": "view-in-github",
        "colab_type": "text"
      },
      "source": [
        "<a href=\"https://colab.research.google.com/github/GabrielKlose18/ia-trabalho-01/blob/main/Notebooks_questoes/IA_Trabalho_01_Quest%C3%A3o_3.ipynb\" target=\"_parent\"><img src=\"https://colab.research.google.com/assets/colab-badge.svg\" alt=\"Open In Colab\"/></a>"
      ]
    },
    {
      "cell_type": "code",
      "execution_count": 2,
      "metadata": {
        "colab": {
          "base_uri": "https://localhost:8080/"
        },
        "id": "uP4P25jyCAHI",
        "outputId": "b022dd3a-a8b7-403b-8181-b8fd592a1c96"
      },
      "outputs": [
        {
          "output_type": "stream",
          "name": "stdout",
          "text": [
            "Acurácia no conjunto de teste: 0.768918918918919\n",
            "\n",
            "Regras de Decisão da Árvore:\n",
            "|--- health_not_recom <= 0.50\n",
            "|   |--- has_nurs_very_crit <= 0.50\n",
            "|   |   |--- class: priority\n",
            "|   |--- has_nurs_very_crit >  0.50\n",
            "|   |   |--- class: spec_prior\n",
            "|--- health_not_recom >  0.50\n",
            "|   |--- class: not_recom\n",
            "\n"
          ]
        }
      ],
      "source": [
        "import pandas as pd\n",
        "import numpy as np\n",
        "from sklearn.model_selection import train_test_split\n",
        "from sklearn.tree import DecisionTreeClassifier, export_text\n",
        "from sklearn.metrics import accuracy_score\n",
        "\n",
        "# Carregar a base de dados\n",
        "url = \"https://raw.githubusercontent.com/GabrielKlose18/ia-trabalho-01/refs/heads/main/Datasets/nursery/nursery.data\"\n",
        "column_names = [\"parents\", \"has_nurs\", \"form\", \"children\", \"housing\", \"finance\", \"social\", \"health\", \"class\"]\n",
        "data = pd.read_csv(url, header=None, names=column_names)\n",
        "\n",
        "# Pré-processamento: Codificar variáveis categóricas\n",
        "data_encoded = pd.get_dummies(data.drop(columns=[\"class\"]))  # One-hot encoding nas variáveis preditoras\n",
        "X = data_encoded\n",
        "y = data[\"class\"]\n",
        "\n",
        "# Selecionar 10000 amostras para treinamento\n",
        "X_train, X_test, y_train, y_test = train_test_split(X, y, train_size=10000, random_state=42)\n",
        "\n",
        "# Treinar a árvore de decisão com critério de Ganho de Informação e profundidade máxima de 2\n",
        "tree = DecisionTreeClassifier(criterion=\"entropy\", max_depth=2, random_state=42)\n",
        "tree.fit(X_train, y_train)\n",
        "\n",
        "# Avaliar a árvore de decisão\n",
        "y_pred = tree.predict(X_test)\n",
        "accuracy = accuracy_score(y_test, y_pred)\n",
        "print(\"Acurácia no conjunto de teste:\", accuracy)\n",
        "\n",
        "# Extrair e exibir as regras de decisão\n",
        "rules = export_text(tree, feature_names=list(X.columns))\n",
        "print(\"\\nRegras de Decisão da Árvore:\")\n",
        "print(rules)\n"
      ]
    }
  ]
}
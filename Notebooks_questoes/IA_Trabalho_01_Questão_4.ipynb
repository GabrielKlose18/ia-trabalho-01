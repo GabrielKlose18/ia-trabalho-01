{
  "nbformat": 4,
  "nbformat_minor": 0,
  "metadata": {
    "colab": {
      "provenance": [],
      "authorship_tag": "ABX9TyMM4P8FVCELGA5mJFKUxJ4n",
      "include_colab_link": true
    },
    "kernelspec": {
      "name": "python3",
      "display_name": "Python 3"
    },
    "language_info": {
      "name": "python"
    }
  },
  "cells": [
    {
      "cell_type": "markdown",
      "metadata": {
        "id": "view-in-github",
        "colab_type": "text"
      },
      "source": [
        "<a href=\"https://colab.research.google.com/github/GabrielKlose18/ia-trabalho-01/blob/main/Notebooks_questoes/IA_Trabalho_01_Quest%C3%A3o_4.ipynb\" target=\"_parent\"><img src=\"https://colab.research.google.com/assets/colab-badge.svg\" alt=\"Open In Colab\"/></a>"
      ]
    },
    {
      "cell_type": "markdown",
      "source": [
        "#O Dilema Bias-Variance Tradeoff\n",
        "\n",
        "O tradeoff entre bias e variância está no fato de que, ao reduzir o bias, geralmente aumentamos a variância, e vice-versa. O objetivo é encontrar um equilíbrio, onde o modelo não seja nem muito simples (alto bias) nem excessivamente complexo (alta variância).\n",
        "\n",
        "Um modelo com alto bias apresenta underfitting, pois é incapaz de capturar as características importantes do conjunto de dados.\n",
        "Um modelo com alta variância apresenta overfitting, pois é muito adaptado ao conjunto de treino e não consegue generalizar para novos dados.\n",
        "\n",
        "#Underfitting e Overfitting\n",
        "\n",
        "Underfitting:\n",
        "\n",
        "Ocorre quando o modelo é muito simples e não captura a complexidade dos dados, resultando em baixo desempenho tanto no treino quanto no teste.\n",
        "Sintomas: erro elevado nos dados de treino e teste.\n",
        "Causado por alto bias e baixa variância.\n",
        "Overfitting:\n",
        "\n",
        "Ocorre quando o modelo é muito complexo e se ajusta demais aos dados de treino, capturando ruídos em vez de padrões genuínos.\n",
        "Sintomas: bom desempenho no treino, mas desempenho ruim no teste.\n",
        "Causado por baixa bias e alta variância.\n",
        "\n",
        "#Resumo da Relação entre Bias, Variância, Underfitting e Overfitting\n",
        "\n",
        "Alto Bias → Underfitting (modelo muito simples, não captura padrões)\n",
        "Alta Variância → Overfitting (modelo muito complexo, captura ruídos)\n",
        "Tradeoff Bias-Variância: Encontrar o equilíbrio onde o modelo não é nem muito simples nem muito complexo, resultando em um bom desempenho em treino e teste.\n",
        "\n",
        "#Conclusão\n",
        "O dilema entre bias e variância é um dos principais desafios na criação de modelos de aprendizado de máquina. Compreender esse equilíbrio é essencial para ajustar o modelo e alcançar um desempenho robusto e generalizável."
      ],
      "metadata": {
        "id": "a4iz5NrIENV9"
      }
    },
    {
      "cell_type": "code",
      "execution_count": null,
      "metadata": {
        "id": "oJPuOHWaEMVp"
      },
      "outputs": [],
      "source": []
    }
  ]
}
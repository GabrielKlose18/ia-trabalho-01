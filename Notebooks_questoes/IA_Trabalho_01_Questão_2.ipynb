{
  "nbformat": 4,
  "nbformat_minor": 0,
  "metadata": {
    "colab": {
      "provenance": [],
      "authorship_tag": "ABX9TyM1tY83NWiVIju+JKgdCeMq",
      "include_colab_link": true
    },
    "kernelspec": {
      "name": "python3",
      "display_name": "Python 3"
    },
    "language_info": {
      "name": "python"
    }
  },
  "cells": [
    {
      "cell_type": "markdown",
      "metadata": {
        "id": "view-in-github",
        "colab_type": "text"
      },
      "source": [
        "<a href=\"https://colab.research.google.com/github/GabrielKlose18/ia-trabalho-01/blob/main/Notebooks_questoes/IA_Trabalho_01_Quest%C3%A3o_2.ipynb\" target=\"_parent\"><img src=\"https://colab.research.google.com/assets/colab-badge.svg\" alt=\"Open In Colab\"/></a>"
      ]
    },
    {
      "cell_type": "markdown",
      "source": [
        "# Carregando dados e definindo função para calcular metricas de desempenho"
      ],
      "metadata": {
        "id": "G-X140u_9uDl"
      }
    },
    {
      "cell_type": "code",
      "execution_count": 4,
      "metadata": {
        "id": "KnFEpHCL6eeh"
      },
      "outputs": [],
      "source": [
        "import pandas as pd\n",
        "import numpy as np\n",
        "from sklearn.model_selection import train_test_split\n",
        "from sklearn.neighbors import KNeighborsClassifier\n",
        "from sklearn.metrics import accuracy_score, precision_score, recall_score\n",
        "\n",
        "# carregar os dados\n",
        "url = \"https://raw.githubusercontent.com/GabrielKlose18/ia-trabalho-01/refs/heads/main/Datasets/htru2/HTRU_2.csv\"\n",
        "data = pd.read_csv(url, header=None)\n",
        "X = data.iloc[:, :-1]  # todas as colunas exceto a ultima são features\n",
        "y = data.iloc[:, -1]  # ultima coluna é o target\n",
        "\n",
        "# definir a funcao para calcular metricas de desempenho\n",
        "def evaluate_model(y_true, y_pred):\n",
        "    accuracy = accuracy_score(y_true, y_pred)\n",
        "    precision = precision_score(y_true, y_pred)\n",
        "    recall = recall_score(y_true, y_pred)\n",
        "    return accuracy, precision, recall\n",
        "\n",
        "# inicializar listas para armazenar resultados médios\n",
        "acc_results, prec_results, rec_results = [], [], []\n"
      ]
    },
    {
      "cell_type": "markdown",
      "source": [
        "# Executando treinamento e teste"
      ],
      "metadata": {
        "id": "PR9mbvWh_SzE"
      }
    },
    {
      "cell_type": "code",
      "source": [
        "# executar 5 vezes o treinamento e teste\n",
        "for _ in range(5):\n",
        "    # dividir os dados em treino e teste (holdout)\n",
        "    X_train, X_test, y_train, y_test = train_test_split(X, y, train_size=6000, random_state=None)\n",
        "\n",
        "    # dividir o conjunto de treino em duas partes iguais para escolher o melhor valor de k\n",
        "    X_train_partial, X_val, y_train_partial, y_val = train_test_split(X_train, y_train, test_size=0.5, random_state=None)\n",
        "\n",
        "    # testar cinco valores diferentes de k e selecionar o melhor\n",
        "    k_values = [1, 3, 5, 7, 9]\n",
        "    best_k = k_values[0]\n",
        "    best_accuracy = 0\n",
        "\n",
        "    for k in k_values:\n",
        "        knn = KNeighborsClassifier(n_neighbors=k, metric='euclidean')\n",
        "        knn.fit(X_train_partial, y_train_partial)\n",
        "        val_pred = knn.predict(X_val)\n",
        "        accuracy, _, _ = evaluate_model(y_val, val_pred)\n",
        "\n",
        "        if accuracy > best_accuracy:\n",
        "            best_accuracy = accuracy\n",
        "            best_k = k\n",
        "\n",
        "    # treinar o modelo final com o melhor k e avaliar no conjunto de teste\n",
        "    knn_final = KNeighborsClassifier(n_neighbors=best_k, metric='euclidean')\n",
        "    knn_final.fit(X_train, y_train)\n",
        "    y_pred = knn_final.predict(X_test)\n",
        "\n",
        "    # calcular métricas de desempenho para o conjunto de teste\n",
        "    accuracy, precision, recall = evaluate_model(y_test, y_pred)\n",
        "    acc_results.append(accuracy)\n",
        "    prec_results.append(precision)\n",
        "    rec_results.append(recall)\n",
        "\n",
        "# exibir os resultados médios\n",
        "print(\"Resultados Médios após 5 execuções:\")\n",
        "print(\"Acurácia Média:\", np.mean(acc_results))\n",
        "print(\"Precisão Média:\", np.mean(prec_results))\n",
        "print(\"Recall Médio:\", np.mean(rec_results))\n"
      ],
      "metadata": {
        "colab": {
          "base_uri": "https://localhost:8080/"
        },
        "id": "Z5HQ2qTD_ULO",
        "outputId": "a221cfa0-584f-4751-a174-aa404e2a7850"
      },
      "execution_count": 6,
      "outputs": [
        {
          "output_type": "stream",
          "name": "stdout",
          "text": [
            "Resultados Médios após 5 execuções:\n",
            "Acurácia Média: 0.9722474365439568\n",
            "Precisão Média: 0.9083643454660931\n",
            "Recall Médio: 0.7751964067498203\n"
          ]
        }
      ]
    }
  ]
}
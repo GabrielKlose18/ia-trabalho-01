{
  "nbformat": 4,
  "nbformat_minor": 0,
  "metadata": {
    "colab": {
      "provenance": [],
      "authorship_tag": "ABX9TyPSg22VwkyYunWvIgfDqG+i",
      "include_colab_link": true
    },
    "kernelspec": {
      "name": "python3",
      "display_name": "Python 3"
    },
    "language_info": {
      "name": "python"
    }
  },
  "cells": [
    {
      "cell_type": "markdown",
      "metadata": {
        "id": "view-in-github",
        "colab_type": "text"
      },
      "source": [
        "<a href=\"https://colab.research.google.com/github/GabrielKlose18/ia-trabalho-01/blob/main/Notebooks_questoes/IA_Trabalho_01_Quest%C3%A3o_1.ipynb\" target=\"_parent\"><img src=\"https://colab.research.google.com/assets/colab-badge.svg\" alt=\"Open In Colab\"/></a>"
      ]
    },
    {
      "cell_type": "markdown",
      "source": [
        "# Preparando e Carregando a base de dados"
      ],
      "metadata": {
        "id": "kGUHb3LZzZQm"
      }
    },
    {
      "cell_type": "code",
      "execution_count": 5,
      "metadata": {
        "id": "towQGoIryy7s"
      },
      "outputs": [],
      "source": [
        "import pandas as pd\n",
        "import numpy as np\n",
        "from sklearn.model_selection import train_test_split\n",
        "from sklearn.linear_model import LinearRegression\n",
        "from sklearn.metrics import mean_squared_error, mean_absolute_error\n",
        "from sklearn.decomposition import PCA\n",
        "from sklearn.preprocessing import StandardScaler\n",
        "\n",
        "# Carregar a base de dados\n",
        "url = \"https://raw.githubusercontent.com/GabrielKlose18/ia-trabalho-01/refs/heads/main/Datasets/communities%2Band%2Bcrime/communities.data\"\n",
        "columns_url = \"https://raw.githubusercontent.com/GabrielKlose18/ia-trabalho-01/refs/heads/main/Datasets/communities%2Band%2Bcrime/communities.names\"\n",
        "\n",
        "# Carregar dados e definir nomes das colunas (note que a base não possui cabeçalho)\n",
        "data = pd.read_csv(url, header=None, na_values=\"?\")\n",
        "\n",
        "# Remover colunas não numéricas (as primeiras 5 colunas)\n",
        "data = data.iloc[:, 5:]\n",
        "data.dropna(inplace=True)  # Remove linhas com valores faltantes\n"
      ]
    },
    {
      "cell_type": "markdown",
      "source": [
        "# Normalizando, dividindo a base de treino, treinando o modelo de RL e Avaliando o modelo com RMSE e MAE"
      ],
      "metadata": {
        "id": "44_o8DlM1UWs"
      }
    },
    {
      "cell_type": "code",
      "source": [
        "# Separar variáveis independentes e dependente (ViolentCrimesPerPop)\n",
        "X = data.drop(columns=[data.columns[-1]])  # Variáveis independentes\n",
        "y = data.iloc[:, -1]  # Variável dependente\n",
        "\n",
        "# Normalizar as variáveis\n",
        "scaler = StandardScaler()\n",
        "X_scaled = scaler.fit_transform(X)\n",
        "\n",
        "# Dividir a base em treino (70%) e teste (30%)\n",
        "X_train, X_test, y_train, y_test = train_test_split(X_scaled, y, test_size=0.3, random_state=42)\n",
        "\n",
        "# Treinar o modelo de regressão linear\n",
        "model = LinearRegression()\n",
        "model.fit(X_train, y_train)\n",
        "\n",
        "# Avaliar o modelo com RMSE e MAE no conjunto de treino e teste\n",
        "y_train_pred = model.predict(X_train)\n",
        "y_test_pred = model.predict(X_test)\n",
        "\n",
        "rmse_train = np.sqrt(mean_squared_error(y_train, y_train_pred))\n",
        "mae_train = mean_absolute_error(y_train, y_train_pred)\n",
        "rmse_test = np.sqrt(mean_squared_error(y_test, y_test_pred))\n",
        "mae_test = mean_absolute_error(y_test, y_test_pred)\n",
        "\n",
        "print(\"Desempenho do Modelo Linear Original\")\n",
        "print(\"RMSE Treino:\", rmse_train)\n",
        "print(\"MAE Treino:\", mae_train)\n",
        "print(\"RMSE Teste:\", rmse_test)\n",
        "print(\"MAE Teste:\", mae_test)"
      ],
      "metadata": {
        "colab": {
          "base_uri": "https://localhost:8080/"
        },
        "id": "51DSQs6x1fsV",
        "outputId": "dae317f9-e065-4439-cc18-0f2024540086"
      },
      "execution_count": 6,
      "outputs": [
        {
          "output_type": "stream",
          "name": "stdout",
          "text": [
            "Desempenho do Modelo Linear Original\n",
            "RMSE Treino: 0.1013921707750238\n",
            "MAE Treino: 0.08043163935549089\n",
            "RMSE Teste: 0.5697397605531411\n",
            "MAE Teste: 0.26549052715871085\n"
          ]
        }
      ]
    },
    {
      "cell_type": "markdown",
      "source": [
        "# Aplicando PCA, Treinando novamento o modelo de RL e Avaliando novamente o modelo com RMSE e MAE"
      ],
      "metadata": {
        "id": "h0SADzd71rC_"
      }
    },
    {
      "cell_type": "code",
      "source": [
        "\n",
        "\n",
        "# Aplicar PCA para reduzir a dimensionalidade a 5 componentes principais\n",
        "pca = PCA(n_components=5)\n",
        "X_train_pca = pca.fit_transform(X_train)\n",
        "X_test_pca = pca.transform(X_test)\n",
        "\n",
        "# Treinar novamente o modelo de regressão linear com os dados reduzidos\n",
        "model_pca = LinearRegression()\n",
        "model_pca.fit(X_train_pca, y_train)\n",
        "\n",
        "# Avaliar o novo modelo com RMSE e MAE no conjunto de treino e teste\n",
        "y_train_pca_pred = model_pca.predict(X_train_pca)\n",
        "y_test_pca_pred = model_pca.predict(X_test_pca)\n",
        "\n",
        "rmse_train_pca = np.sqrt(mean_squared_error(y_train, y_train_pca_pred))\n",
        "mae_train_pca = mean_absolute_error(y_train, y_train_pca_pred)\n",
        "rmse_test_pca = np.sqrt(mean_squared_error(y_test, y_test_pca_pred))\n",
        "mae_test_pca = mean_absolute_error(y_test, y_test_pca_pred)\n",
        "\n",
        "print(\"\\nDesempenho do Modelo com PCA\")\n",
        "print(\"RMSE Treino (PCA):\", rmse_train_pca)\n",
        "print(\"MAE Treino (PCA):\", mae_train_pca)\n",
        "print(\"RMSE Teste (PCA):\", rmse_test_pca)\n",
        "print(\"MAE Teste (PCA):\", mae_test_pca)\n"
      ],
      "metadata": {
        "colab": {
          "base_uri": "https://localhost:8080/"
        },
        "id": "6Lw7l2mK6NIJ",
        "outputId": "321b929d-4007-4701-e26b-37e69d18a0bd"
      },
      "execution_count": 7,
      "outputs": [
        {
          "output_type": "stream",
          "name": "stdout",
          "text": [
            "\n",
            "Desempenho do Modelo com PCA\n",
            "RMSE Treino (PCA): 0.17251949623416468\n",
            "MAE Treino (PCA): 0.13589012240038933\n",
            "RMSE Teste (PCA): 0.19315894212956192\n",
            "MAE Teste (PCA): 0.1492332692646633\n"
          ]
        }
      ]
    }
  ]
}